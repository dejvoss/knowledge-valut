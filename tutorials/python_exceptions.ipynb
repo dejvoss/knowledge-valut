{
 "cells": [
  {
   "metadata": {},
   "cell_type": "markdown",
   "source": [
    "# Python Errors handlers - Exceptions\n",
    "\n",
    "The world is not ideal and we can't expect that everything will go as planned. \n",
    "\n",
    "In programming, we can't expect that the code will always work as expected. \n",
    "\n",
    "There are many reasons why the code can fail. It can be due to the wrong input, wrong logic, or any other reason. \n",
    "\n",
    "In Python, we have diferent types of errors. We can categorize them into two types:\n",
    "\n",
    "1. Syntax errors\n",
    "2. Exceptions"
   ],
   "id": "1f8b3c86cef693bf"
  },
  {
   "metadata": {},
   "cell_type": "markdown",
   "source": [
    "## Syntax errors\n",
    "\n",
    "Syntax errors\n",
    "\n",
    "Syntax errors are the errors that occur when the code is not written correctly.\n",
    "\n",
    "For example, if we forget to close the parenthesis, we will get a syntax error.\n",
    "\n",
    "The code will not run until we fix the syntax error."
   ],
   "id": "bb96411c42a51fc9"
  },
  {
   "metadata": {
    "ExecuteTime": {
     "end_time": "2024-10-11T20:35:34.314598Z",
     "start_time": "2024-10-11T20:35:34.311220Z"
    }
   },
   "cell_type": "code",
   "source": [
    "from fastjsonschema.indent import Indent\n",
    "\n",
    "# Syntax errors\n",
    "print(\"This is a syntax error)"
   ],
   "id": "8b954787af88c7a8",
   "outputs": [
    {
     "ename": "SyntaxError",
     "evalue": "unterminated string literal (detected at line 5) (4142315834.py, line 5)",
     "output_type": "error",
     "traceback": [
      "\u001B[0;36m  Cell \u001B[0;32mIn[2], line 5\u001B[0;36m\u001B[0m\n\u001B[0;31m    print(\"This is a syntax error)\u001B[0m\n\u001B[0m          ^\u001B[0m\n\u001B[0;31mSyntaxError\u001B[0m\u001B[0;31m:\u001B[0m unterminated string literal (detected at line 5)\n"
     ]
    }
   ],
   "execution_count": 2
  },
  {
   "metadata": {
    "ExecuteTime": {
     "end_time": "2024-10-11T20:38:20.741390Z",
     "start_time": "2024-10-11T20:38:20.737186Z"
    }
   },
   "cell_type": "code",
   "source": [
    "def func:\n",
    "    pass"
   ],
   "id": "fe9e8a9fd2d20548",
   "outputs": [
    {
     "ename": "SyntaxError",
     "evalue": "expected '(' (1396688934.py, line 1)",
     "output_type": "error",
     "traceback": [
      "\u001B[0;36m  Cell \u001B[0;32mIn[3], line 1\u001B[0;36m\u001B[0m\n\u001B[0;31m    def func:\u001B[0m\n\u001B[0m            ^\u001B[0m\n\u001B[0;31mSyntaxError\u001B[0m\u001B[0;31m:\u001B[0m expected '('\n"
     ]
    }
   ],
   "execution_count": 3
  },
  {
   "metadata": {
    "ExecuteTime": {
     "end_time": "2024-10-11T20:38:43.375748Z",
     "start_time": "2024-10-11T20:38:43.372003Z"
    }
   },
   "cell_type": "code",
   "source": [
    "def func():\n",
    "pass"
   ],
   "id": "cc208e4a1e62d1e1",
   "outputs": [
    {
     "ename": "IndentationError",
     "evalue": "expected an indented block after function definition on line 1 (39127018.py, line 2)",
     "output_type": "error",
     "traceback": [
      "\u001B[0;36m  Cell \u001B[0;32mIn[4], line 2\u001B[0;36m\u001B[0m\n\u001B[0;31m    pass\u001B[0m\n\u001B[0m    ^\u001B[0m\n\u001B[0;31mIndentationError\u001B[0m\u001B[0;31m:\u001B[0m expected an indented block after function definition on line 1\n"
     ]
    }
   ],
   "execution_count": 4
  },
  {
   "metadata": {},
   "cell_type": "markdown",
   "source": [
    "even if some errors are not called syntax errors, they are still syntax errors, because they are related to the syntax of the code.\n",
    "\n",
    "Those errors are child of SyntaxError, look into the cell below. \n",
    "\n",
    "By the way the errors in Python are organized in a tree structure and we can check the parent of the error by checking the __bases__ attribute of the error class.\n",
    "\n"
   ],
   "id": "f8ae74533a2b8e03"
  },
  {
   "metadata": {
    "ExecuteTime": {
     "end_time": "2024-10-11T20:47:54.750944Z",
     "start_time": "2024-10-11T20:47:54.747142Z"
    }
   },
   "cell_type": "code",
   "source": "print(IndentationError.__bases__)",
   "id": "ee3ebe8cb8365488",
   "outputs": [
    {
     "name": "stdout",
     "output_type": "stream",
     "text": [
      "(<class 'SyntaxError'>,)\n"
     ]
    }
   ],
   "execution_count": 8
  },
  {
   "metadata": {},
   "cell_type": "markdown",
   "source": [
    "## Exceptions\n",
    "\n",
    "Exceptions are the errors that occur during the execution of the code.\n",
    "\n",
    "There are plenty of specified exceptions in Python and each exception has a specific meaning.\n",
    "\n",
    "For example, if we try to divide a number by zero, we will get a ZeroDivisionError.\n",
    "\n",
    "There are many base exceptions in Python, and I show some examples in the next cells. \n",
    "\n",
    "Some of the most common exceptions are:\n",
    "- Exception\n",
    "- AttributeError\n",
    "- ImportError\n",
    "- IndexError\n",
    "- KeyError\n",
    "- NameError\n",
    "- TypeError\n",
    "- ArythmeticError\n",
    "\n",
    "The code will run until the exception is raised."
   ],
   "id": "47eb7128d400ff26"
  },
  {
   "metadata": {
    "ExecuteTime": {
     "end_time": "2024-10-11T20:53:03.981946Z",
     "start_time": "2024-10-11T20:53:03.969476Z"
    }
   },
   "cell_type": "code",
   "source": [
    "print(\"This line of code doesn't contain any error and is running normally\")\n",
    "print(a)\n",
    "print(\"This line of code will not be executed\")"
   ],
   "id": "6fd8b006684b23d5",
   "outputs": [
    {
     "name": "stdout",
     "output_type": "stream",
     "text": [
      "This line of code doesn't contain any error and is running normally\n"
     ]
    },
    {
     "ename": "NameError",
     "evalue": "name 'a' is not defined",
     "output_type": "error",
     "traceback": [
      "\u001B[0;31m---------------------------------------------------------------------------\u001B[0m",
      "\u001B[0;31mNameError\u001B[0m                                 Traceback (most recent call last)",
      "Cell \u001B[0;32mIn[10], line 2\u001B[0m\n\u001B[1;32m      1\u001B[0m \u001B[38;5;28mprint\u001B[39m(\u001B[38;5;124m\"\u001B[39m\u001B[38;5;124mThis line of code doesn\u001B[39m\u001B[38;5;124m'\u001B[39m\u001B[38;5;124mt contain any error and is running normally\u001B[39m\u001B[38;5;124m\"\u001B[39m)\n\u001B[0;32m----> 2\u001B[0m \u001B[38;5;28mprint\u001B[39m(\u001B[43ma\u001B[49m)\n\u001B[1;32m      3\u001B[0m \u001B[38;5;28mprint\u001B[39m(\u001B[38;5;124m\"\u001B[39m\u001B[38;5;124mThis line of code will not be executed\u001B[39m\u001B[38;5;124m\"\u001B[39m)\n",
      "\u001B[0;31mNameError\u001B[0m: name 'a' is not defined"
     ]
    }
   ],
   "execution_count": 10
  },
  {
   "metadata": {
    "ExecuteTime": {
     "end_time": "2024-10-11T20:55:24.922987Z",
     "start_time": "2024-10-11T20:55:24.909799Z"
    }
   },
   "cell_type": "code",
   "source": "print(1/0)",
   "id": "c72b5999b77eb4fe",
   "outputs": [
    {
     "ename": "ZeroDivisionError",
     "evalue": "division by zero",
     "output_type": "error",
     "traceback": [
      "\u001B[0;31m---------------------------------------------------------------------------\u001B[0m",
      "\u001B[0;31mZeroDivisionError\u001B[0m                         Traceback (most recent call last)",
      "Cell \u001B[0;32mIn[13], line 1\u001B[0m\n\u001B[0;32m----> 1\u001B[0m \u001B[38;5;28mprint\u001B[39m(\u001B[38;5;241;43m1\u001B[39;49m\u001B[38;5;241;43m/\u001B[39;49m\u001B[38;5;241;43m0\u001B[39;49m)\n",
      "\u001B[0;31mZeroDivisionError\u001B[0m: division by zero"
     ]
    }
   ],
   "execution_count": 13
  },
  {
   "metadata": {
    "ExecuteTime": {
     "end_time": "2024-10-11T20:53:38.106720Z",
     "start_time": "2024-10-11T20:53:38.094931Z"
    }
   },
   "cell_type": "code",
   "source": "print(int(\"a\"))",
   "id": "8ccfc46a3babd5f0",
   "outputs": [
    {
     "ename": "ValueError",
     "evalue": "invalid literal for int() with base 10: 'a'",
     "output_type": "error",
     "traceback": [
      "\u001B[0;31m---------------------------------------------------------------------------\u001B[0m",
      "\u001B[0;31mValueError\u001B[0m                                Traceback (most recent call last)",
      "Cell \u001B[0;32mIn[11], line 1\u001B[0m\n\u001B[0;32m----> 1\u001B[0m \u001B[38;5;28mprint\u001B[39m(\u001B[38;5;28;43mint\u001B[39;49m\u001B[43m(\u001B[49m\u001B[38;5;124;43m\"\u001B[39;49m\u001B[38;5;124;43ma\u001B[39;49m\u001B[38;5;124;43m\"\u001B[39;49m\u001B[43m)\u001B[49m)\n",
      "\u001B[0;31mValueError\u001B[0m: invalid literal for int() with base 10: 'a'"
     ]
    }
   ],
   "execution_count": 11
  },
  {
   "metadata": {
    "ExecuteTime": {
     "end_time": "2024-10-11T20:54:29.428209Z",
     "start_time": "2024-10-11T20:54:29.416007Z"
    }
   },
   "cell_type": "code",
   "source": "print([1, 2, 3][4])",
   "id": "5775807a6400fbd8",
   "outputs": [
    {
     "ename": "IndexError",
     "evalue": "list index out of range",
     "output_type": "error",
     "traceback": [
      "\u001B[0;31m---------------------------------------------------------------------------\u001B[0m",
      "\u001B[0;31mIndexError\u001B[0m                                Traceback (most recent call last)",
      "Cell \u001B[0;32mIn[12], line 1\u001B[0m\n\u001B[0;32m----> 1\u001B[0m \u001B[38;5;28mprint\u001B[39m(\u001B[43m[\u001B[49m\u001B[38;5;241;43m1\u001B[39;49m\u001B[43m,\u001B[49m\u001B[43m \u001B[49m\u001B[38;5;241;43m2\u001B[39;49m\u001B[43m,\u001B[49m\u001B[43m \u001B[49m\u001B[38;5;241;43m3\u001B[39;49m\u001B[43m]\u001B[49m\u001B[43m[\u001B[49m\u001B[38;5;241;43m4\u001B[39;49m\u001B[43m]\u001B[49m)\n",
      "\u001B[0;31mIndexError\u001B[0m: list index out of range"
     ]
    }
   ],
   "execution_count": 12
  },
  {
   "metadata": {},
   "cell_type": "markdown",
   "source": [
    "## Handling exceptions\n",
    "\n",
    "While in some cases is good to let the code fail (for example when writing a exception handler), in some cases we want to handle the exceptions.\n",
    "\n",
    "We can handle the exceptions using the try-except block.\n",
    "\n",
    "The try block contains the code that may raise an exception.\n",
    "\n",
    "The except block contains the code that will be executed if an exception is raised."
   ],
   "id": "3494853398766b42"
  },
  {
   "metadata": {
    "ExecuteTime": {
     "end_time": "2024-10-11T21:00:40.153362Z",
     "start_time": "2024-10-11T21:00:40.149356Z"
    }
   },
   "cell_type": "code",
   "source": [
    "# the simplest example of try-except block\n",
    "\n",
    "try:\n",
    "    print(\"This line of code doesn't contain any error and is running normally\")\n",
    "    print(a) # this is our error\n",
    "    print(\"This line of code will not be executed\")\n",
    "except Exception as e:\n",
    "    print(\"An exception is raised\")\n",
    "    print(e)\n",
    "\n",
    "print(\"This line of code is out of the try-except block and will be executed because we handled the exception\")"
   ],
   "id": "69fbae642087c831",
   "outputs": [
    {
     "name": "stdout",
     "output_type": "stream",
     "text": [
      "This line of code doesn't contain any error and is running normally\n",
      "An exception is raised\n",
      "name 'a' is not defined\n",
      "This line of code is out of the try-except block and will be executed because we handled the exception\n"
     ]
    }
   ],
   "execution_count": 16
  },
  {
   "metadata": {},
   "cell_type": "code",
   "outputs": [],
   "execution_count": null,
   "source": "",
   "id": "f250a7b2dc72d930"
  },
  {
   "cell_type": "code",
   "id": "initial_id",
   "metadata": {
    "collapsed": true,
    "ExecuteTime": {
     "end_time": "2024-10-11T20:23:55.957692Z",
     "start_time": "2024-10-11T20:23:55.951414Z"
    }
   },
   "source": [
    "def func():\n",
    "    try:\n",
    "        print(\"I am trying block inside the function where there is no error\")\n",
    "    except Exception as e:\n",
    "        print(\"I am except block inside the function\")\n",
    "        print(e)\n",
    "\n",
    "\n",
    "def func_with_error():\n",
    "    try:\n",
    "        print(\"I am trying block inside the function where there is an error\")\n",
    "        int(\"a\")\n",
    "    except Exception as e:\n",
    "        print(\n",
    "            \"I am except block inside the function with error which will not be caught\"\n",
    "        )\n",
    "\n",
    "\n",
    "def func_with_error_to_caught():\n",
    "    try:\n",
    "        print(\"I am trying block inside the function where there is an error\")\n",
    "        int(\"a\")\n",
    "    except Exception as e:\n",
    "        print(\"I am except block inside the function with error which will be caught\")\n",
    "        raise e\n",
    "\n",
    "\n",
    "try:\n",
    "    func()\n",
    "    func_with_error()\n",
    "    func_with_error_to_caught()\n",
    "except Exception as e:\n",
    "    print(\"I am except block and I am catching the error from the function\")\n",
    "    print(e)\n"
   ],
   "outputs": [
    {
     "name": "stdout",
     "output_type": "stream",
     "text": [
      "I am trying block inside the function where there is no error\n",
      "I am trying block inside the function where there is an error\n",
      "I am except block inside the function with error which will not be caught\n",
      "I am trying block inside the function where there is an error\n",
      "I am except block inside the function with error which will be caught\n",
      "I am except block and I am catching the error from the function\n",
      "invalid literal for int() with base 10: 'a'\n"
     ]
    }
   ],
   "execution_count": 1
  },
  {
   "metadata": {},
   "cell_type": "code",
   "outputs": [],
   "execution_count": null,
   "source": "",
   "id": "703c30d178d41d4d"
  }
 ],
 "metadata": {
  "kernelspec": {
   "display_name": "Python 3",
   "language": "python",
   "name": "python3"
  },
  "language_info": {
   "codemirror_mode": {
    "name": "ipython",
    "version": 2
   },
   "file_extension": ".py",
   "mimetype": "text/x-python",
   "name": "python",
   "nbconvert_exporter": "python",
   "pygments_lexer": "ipython2",
   "version": "2.7.6"
  }
 },
 "nbformat": 4,
 "nbformat_minor": 5
}
