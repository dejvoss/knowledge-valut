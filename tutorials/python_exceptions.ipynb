{
 "cells": [
  {
   "metadata": {},
   "cell_type": "markdown",
   "source": [
    "# Python Errors handlers - Exceptions\n",
    "\n",
    "The world is not ideal and we can't expect that everything will go as planned. \n",
    "\n",
    "In programming, we can't expect that the code will always work as expected. \n",
    "\n",
    "There are many reasons why the code can fail. It can be due to the wrong input, wrong logic, or any other reason. \n",
    "\n",
    "In Python, we have diferent types of errors. We can categorize them into two types:\n",
    "\n",
    "1. Syntax errors\n",
    "2. Exceptions"
   ],
   "id": "1f8b3c86cef693bf"
  },
  {
   "metadata": {},
   "cell_type": "markdown",
   "source": [
    "## Syntax errors\n",
    "\n",
    "Syntax errors\n",
    "\n",
    "Syntax errors are the errors that occur when the code is not written correctly.\n",
    "\n",
    "For example, if we forget to close the parenthesis, we will get a syntax error.\n",
    "\n",
    "The code will not run until we fix the syntax error."
   ],
   "id": "bb96411c42a51fc9"
  },
  {
   "metadata": {
    "ExecuteTime": {
     "end_time": "2024-10-11T20:35:34.314598Z",
     "start_time": "2024-10-11T20:35:34.311220Z"
    }
   },
   "cell_type": "code",
   "source": [
    "from fastjsonschema.indent import Indent\n",
    "\n",
    "# Syntax errors\n",
    "print(\"This is a syntax error)"
   ],
   "id": "8b954787af88c7a8",
   "outputs": [
    {
     "ename": "SyntaxError",
     "evalue": "unterminated string literal (detected at line 5) (4142315834.py, line 5)",
     "output_type": "error",
     "traceback": [
      "\u001B[0;36m  Cell \u001B[0;32mIn[2], line 5\u001B[0;36m\u001B[0m\n\u001B[0;31m    print(\"This is a syntax error)\u001B[0m\n\u001B[0m          ^\u001B[0m\n\u001B[0;31mSyntaxError\u001B[0m\u001B[0;31m:\u001B[0m unterminated string literal (detected at line 5)\n"
     ]
    }
   ],
   "execution_count": 2
  },
  {
   "metadata": {
    "ExecuteTime": {
     "end_time": "2024-10-11T20:38:20.741390Z",
     "start_time": "2024-10-11T20:38:20.737186Z"
    }
   },
   "cell_type": "code",
   "source": [
    "def func:\n",
    "    pass"
   ],
   "id": "fe9e8a9fd2d20548",
   "outputs": [
    {
     "ename": "SyntaxError",
     "evalue": "expected '(' (1396688934.py, line 1)",
     "output_type": "error",
     "traceback": [
      "\u001B[0;36m  Cell \u001B[0;32mIn[3], line 1\u001B[0;36m\u001B[0m\n\u001B[0;31m    def func:\u001B[0m\n\u001B[0m            ^\u001B[0m\n\u001B[0;31mSyntaxError\u001B[0m\u001B[0;31m:\u001B[0m expected '('\n"
     ]
    }
   ],
   "execution_count": 3
  },
  {
   "metadata": {
    "ExecuteTime": {
     "end_time": "2024-10-11T20:38:43.375748Z",
     "start_time": "2024-10-11T20:38:43.372003Z"
    }
   },
   "cell_type": "code",
   "source": [
    "def func():\n",
    "pass"
   ],
   "id": "cc208e4a1e62d1e1",
   "outputs": [
    {
     "ename": "IndentationError",
     "evalue": "expected an indented block after function definition on line 1 (39127018.py, line 2)",
     "output_type": "error",
     "traceback": [
      "\u001B[0;36m  Cell \u001B[0;32mIn[4], line 2\u001B[0;36m\u001B[0m\n\u001B[0;31m    pass\u001B[0m\n\u001B[0m    ^\u001B[0m\n\u001B[0;31mIndentationError\u001B[0m\u001B[0;31m:\u001B[0m expected an indented block after function definition on line 1\n"
     ]
    }
   ],
   "execution_count": 4
  },
  {
   "metadata": {},
   "cell_type": "markdown",
   "source": [
    "even if some errors are not called syntax errors, they are still syntax errors, because they are related to the syntax of the code.\n",
    "\n",
    "Those errors are child of SyntaxError, look into the cell below. \n",
    "\n",
    "By the way the errors in Python are organized in a tree structure and we can check the parent of the error by checking the __bases__ attribute of the error class.\n",
    "\n"
   ],
   "id": "f8ae74533a2b8e03"
  },
  {
   "metadata": {
    "ExecuteTime": {
     "end_time": "2024-10-11T20:47:54.750944Z",
     "start_time": "2024-10-11T20:47:54.747142Z"
    }
   },
   "cell_type": "code",
   "source": "print(IndentationError.__bases__)",
   "id": "ee3ebe8cb8365488",
   "outputs": [
    {
     "name": "stdout",
     "output_type": "stream",
     "text": [
      "(<class 'SyntaxError'>,)\n"
     ]
    }
   ],
   "execution_count": 8
  },
  {
   "metadata": {},
   "cell_type": "markdown",
   "source": [
    "## Exceptions\n",
    "\n",
    "Exceptions are the errors that occur during the execution of the code.\n",
    "\n",
    "There are plenty of specified exceptions in Python and each exception has a specific meaning.\n",
    "\n",
    "For example, if we try to divide a number by zero, we will get a ZeroDivisionError.\n",
    "\n",
    "There are many base exceptions in Python, and I show some examples in the next cells. \n",
    "\n",
    "Some of the most common exceptions are:\n",
    "- Exception\n",
    "- AttributeError\n",
    "- ImportError\n",
    "- IndexError\n",
    "- KeyError\n",
    "- NameError\n",
    "- TypeError\n",
    "- ArythmeticError\n",
    "\n",
    "The code will run until the exception is raised."
   ],
   "id": "47eb7128d400ff26"
  },
  {
   "metadata": {
    "ExecuteTime": {
     "end_time": "2024-10-11T20:53:03.981946Z",
     "start_time": "2024-10-11T20:53:03.969476Z"
    }
   },
   "cell_type": "code",
   "source": [
    "print(\"This line of code doesn't contain any error and is running normally\")\n",
    "print(a)\n",
    "print(\"This line of code will not be executed\")"
   ],
   "id": "6fd8b006684b23d5",
   "outputs": [
    {
     "name": "stdout",
     "output_type": "stream",
     "text": [
      "This line of code doesn't contain any error and is running normally\n"
     ]
    },
    {
     "ename": "NameError",
     "evalue": "name 'a' is not defined",
     "output_type": "error",
     "traceback": [
      "\u001B[0;31m---------------------------------------------------------------------------\u001B[0m",
      "\u001B[0;31mNameError\u001B[0m                                 Traceback (most recent call last)",
      "Cell \u001B[0;32mIn[10], line 2\u001B[0m\n\u001B[1;32m      1\u001B[0m \u001B[38;5;28mprint\u001B[39m(\u001B[38;5;124m\"\u001B[39m\u001B[38;5;124mThis line of code doesn\u001B[39m\u001B[38;5;124m'\u001B[39m\u001B[38;5;124mt contain any error and is running normally\u001B[39m\u001B[38;5;124m\"\u001B[39m)\n\u001B[0;32m----> 2\u001B[0m \u001B[38;5;28mprint\u001B[39m(\u001B[43ma\u001B[49m)\n\u001B[1;32m      3\u001B[0m \u001B[38;5;28mprint\u001B[39m(\u001B[38;5;124m\"\u001B[39m\u001B[38;5;124mThis line of code will not be executed\u001B[39m\u001B[38;5;124m\"\u001B[39m)\n",
      "\u001B[0;31mNameError\u001B[0m: name 'a' is not defined"
     ]
    }
   ],
   "execution_count": 10
  },
  {
   "metadata": {
    "ExecuteTime": {
     "end_time": "2024-10-11T20:55:24.922987Z",
     "start_time": "2024-10-11T20:55:24.909799Z"
    }
   },
   "cell_type": "code",
   "source": "print(1/0)",
   "id": "c72b5999b77eb4fe",
   "outputs": [
    {
     "ename": "ZeroDivisionError",
     "evalue": "division by zero",
     "output_type": "error",
     "traceback": [
      "\u001B[0;31m---------------------------------------------------------------------------\u001B[0m",
      "\u001B[0;31mZeroDivisionError\u001B[0m                         Traceback (most recent call last)",
      "Cell \u001B[0;32mIn[13], line 1\u001B[0m\n\u001B[0;32m----> 1\u001B[0m \u001B[38;5;28mprint\u001B[39m(\u001B[38;5;241;43m1\u001B[39;49m\u001B[38;5;241;43m/\u001B[39;49m\u001B[38;5;241;43m0\u001B[39;49m)\n",
      "\u001B[0;31mZeroDivisionError\u001B[0m: division by zero"
     ]
    }
   ],
   "execution_count": 13
  },
  {
   "metadata": {
    "ExecuteTime": {
     "end_time": "2024-10-11T20:53:38.106720Z",
     "start_time": "2024-10-11T20:53:38.094931Z"
    }
   },
   "cell_type": "code",
   "source": "print(int(\"a\"))",
   "id": "8ccfc46a3babd5f0",
   "outputs": [
    {
     "ename": "ValueError",
     "evalue": "invalid literal for int() with base 10: 'a'",
     "output_type": "error",
     "traceback": [
      "\u001B[0;31m---------------------------------------------------------------------------\u001B[0m",
      "\u001B[0;31mValueError\u001B[0m                                Traceback (most recent call last)",
      "Cell \u001B[0;32mIn[11], line 1\u001B[0m\n\u001B[0;32m----> 1\u001B[0m \u001B[38;5;28mprint\u001B[39m(\u001B[38;5;28;43mint\u001B[39;49m\u001B[43m(\u001B[49m\u001B[38;5;124;43m\"\u001B[39;49m\u001B[38;5;124;43ma\u001B[39;49m\u001B[38;5;124;43m\"\u001B[39;49m\u001B[43m)\u001B[49m)\n",
      "\u001B[0;31mValueError\u001B[0m: invalid literal for int() with base 10: 'a'"
     ]
    }
   ],
   "execution_count": 11
  },
  {
   "metadata": {
    "ExecuteTime": {
     "end_time": "2024-10-11T20:54:29.428209Z",
     "start_time": "2024-10-11T20:54:29.416007Z"
    }
   },
   "cell_type": "code",
   "source": "print([1, 2, 3][4])",
   "id": "5775807a6400fbd8",
   "outputs": [
    {
     "ename": "IndexError",
     "evalue": "list index out of range",
     "output_type": "error",
     "traceback": [
      "\u001B[0;31m---------------------------------------------------------------------------\u001B[0m",
      "\u001B[0;31mIndexError\u001B[0m                                Traceback (most recent call last)",
      "Cell \u001B[0;32mIn[12], line 1\u001B[0m\n\u001B[0;32m----> 1\u001B[0m \u001B[38;5;28mprint\u001B[39m(\u001B[43m[\u001B[49m\u001B[38;5;241;43m1\u001B[39;49m\u001B[43m,\u001B[49m\u001B[43m \u001B[49m\u001B[38;5;241;43m2\u001B[39;49m\u001B[43m,\u001B[49m\u001B[43m \u001B[49m\u001B[38;5;241;43m3\u001B[39;49m\u001B[43m]\u001B[49m\u001B[43m[\u001B[49m\u001B[38;5;241;43m4\u001B[39;49m\u001B[43m]\u001B[49m)\n",
      "\u001B[0;31mIndexError\u001B[0m: list index out of range"
     ]
    }
   ],
   "execution_count": 12
  },
  {
   "metadata": {},
   "cell_type": "markdown",
   "source": [
    "## Handling exceptions\n",
    "\n",
    "While in some cases is good to let the code fail (for example when writing a exception handler), in some cases we want to handle the exceptions.\n",
    "\n",
    "We can handle the exceptions using the try-except block.\n",
    "\n",
    "The try block contains the code that may raise an exception.\n",
    "\n",
    "The except block contains the code that will be executed if an exception is raised."
   ],
   "id": "3494853398766b42"
  },
  {
   "metadata": {
    "ExecuteTime": {
     "end_time": "2024-10-18T19:29:39.224080Z",
     "start_time": "2024-10-18T19:29:39.220841Z"
    }
   },
   "cell_type": "code",
   "source": [
    "# the simplest example of try-except block\n",
    "try:\n",
    "    print(\"This line of code doesn't contain any error and is running normally\")\n",
    "    print(a) # this is our error\n",
    "    print(\"This line of code will not be executed\")\n",
    "except Exception as e:\n",
    "    print(\"An exception is raised\")\n",
    "    print(e)\n",
    "\n",
    "print(\"This line of code is out of the try-except block and will be executed because we handled the exception\")"
   ],
   "id": "69fbae642087c831",
   "outputs": [
    {
     "name": "stdout",
     "output_type": "stream",
     "text": [
      "This line of code doesn't contain any error and is running normally\n",
      "An exception is raised\n",
      "name 'a' is not defined\n",
      "This line of code is out of the try-except block and will be executed because we handled the exception\n"
     ]
    }
   ],
   "execution_count": 1
  },
  {
   "metadata": {},
   "cell_type": "markdown",
   "source": [
    "## Python allow us to handle different exceptions in different ways.\n",
    "\n",
    "It is called multiple exceptions handling. And is done by adding multiple except blocks.\n",
    "\n",
    "Just one think we need to remember is that the python excpetions are organized in a tree structure - means that if we catch the parent exception, we will catch the child exceptions as well.\n",
    "\n",
    "Let's look in the example:"
   ],
   "id": "f32e71cb8066e163"
  },
  {
   "metadata": {
    "ExecuteTime": {
     "end_time": "2024-10-18T19:33:35.187210Z",
     "start_time": "2024-10-18T19:33:35.184366Z"
    }
   },
   "cell_type": "code",
   "source": [
    "try:\n",
    "    print(1/0)\n",
    "except ZeroDivisionError as e:\n",
    "    print(\"ZeroDivisionError is the child of ArithmeticError which is a child of Exception.\"\n",
    "          \"That way when we catch the ZeroDivisionError we catch the ArithmeticError and Exception as well\"\n",
    "          \"This means that any other eexcept block will be not executed\")\n",
    "    print(e)\n",
    "except ArithmeticError as e:\n",
    "    print(\"ArithmeticError is raised\")\n",
    "    print(e)\n",
    "except Exception as e:\n",
    "    print(\"Exception is raised\")\n",
    "    print(e)"
   ],
   "id": "f250a7b2dc72d930",
   "outputs": [
    {
     "name": "stdout",
     "output_type": "stream",
     "text": [
      "ZeroDivisionError is the child of ArithmeticError which is a child of Exception.That way when we catch the ZeroDivisionError we catch the ArithmeticError and Exception as wellThis means that any other eexcept block will be not executed\n",
      "division by zero\n"
     ]
    }
   ],
   "execution_count": 3
  },
  {
   "metadata": {
    "ExecuteTime": {
     "end_time": "2024-10-18T19:34:59.383408Z",
     "start_time": "2024-10-18T19:34:59.380301Z"
    }
   },
   "cell_type": "code",
   "source": [
    "try:\n",
    "    print(1/0)\n",
    "except ArithmeticError as e:\n",
    "    print(\"ArithmeticError is raised. ArithmeticError is the parent of ZeroDivisionError. This means that we catch the ZeroDivisionError as well and except block from ZeroDivisionError will be not executed.\")\n",
    "    print(e)\n",
    "except ZeroDivisionError as e:\n",
    "    print(\"ZeroDivionError is not raised in this case\")\n",
    "except Exception as e:\n",
    "    print(\"Exception is raised\")\n",
    "    print(e)"
   ],
   "id": "9ce082908711d4dd",
   "outputs": [
    {
     "name": "stdout",
     "output_type": "stream",
     "text": [
      "ArithmeticError is raised. ArithmeticError is the parent of ZeroDivisionError. This means that we catch the ZeroDivisionError as well and except block from ZeroDivisionError will be not executed.\n",
      "division by zero\n"
     ]
    }
   ],
   "execution_count": 4
  },
  {
   "metadata": {},
   "cell_type": "markdown",
   "source": [
    "The same way is going to happen with Exception. Basically the Exception is the parent of all exceptions in Python.\n",
    "This means that whatever exception we want to catch, we can catch it by catching the Exception.\n",
    "This also means that if we want to catch concrete exception, we need to catch it before the Exception."
   ],
   "id": "7798cb53753fd064"
  },
  {
   "metadata": {
    "ExecuteTime": {
     "end_time": "2024-10-18T19:38:18.806253Z",
     "start_time": "2024-10-18T19:38:18.803333Z"
    }
   },
   "cell_type": "code",
   "source": [
    "try:\n",
    "    list = [1, 2, 3]\n",
    "    print(list[4])\n",
    "    print(1/0)\n",
    "except ZeroDivisionError as e:\n",
    "    print(\"Cant divide by zero\")\n",
    "except IndexError as e:\n",
    "    print(\"Index not in list\")\n",
    "except Exception as e:\n",
    "    print(\"Exception is raised\")\n",
    "    print(e)"
   ],
   "id": "8c418428b37aa95e",
   "outputs": [
    {
     "name": "stdout",
     "output_type": "stream",
     "text": [
      "Index not in list\n"
     ]
    }
   ],
   "execution_count": 8
  },
  {
   "metadata": {
    "ExecuteTime": {
     "end_time": "2024-10-18T19:38:45.723824Z",
     "start_time": "2024-10-18T19:38:45.721082Z"
    }
   },
   "cell_type": "code",
   "source": [
    "# taking the same code, but now we comment the IndexError\n",
    "try:\n",
    "    list = [1, 2, 3]\n",
    "    # print(list[4])\n",
    "    print(1/0)\n",
    "except ZeroDivisionError as e:\n",
    "    print(\"Cant divide by zero\")\n",
    "except IndexError as e:\n",
    "    print(\"Index not in list\")\n",
    "except Exception as e:\n",
    "    print(\"Exception is raised\")\n",
    "    print(e)"
   ],
   "id": "3b1955ba3b1fdd6d",
   "outputs": [
    {
     "name": "stdout",
     "output_type": "stream",
     "text": [
      "Cant divide by zero\n"
     ]
    }
   ],
   "execution_count": 9
  },
  {
   "metadata": {},
   "cell_type": "markdown",
   "source": [
    "## Why catching the Exception is not a good idea?\n",
    "\n",
    "Catching the Exception is not a good idea because we are catching all exceptions in Python.\n",
    "Good code should be specific and should handle only the exceptions that we are expecting.\n",
    "The none expecting exceptions should be raised and handled in the upper level of the code.\n",
    "\n",
    "If we catch the Exception, we can hide the bugs in the code, and we can't know what is the real problem in the code.\n",
    "When handling specific exceptions and raising the others, we can know what is the problem in the code, and we can fix it.\n",
    "\n",
    "## Raising exceptions\n",
    "\n",
    "How can we use the exceptions in our code?\n",
    "\n",
    "Let say we have a function that calculates the cost of the product. The function takes the price and the quantity of the product and returns the cost of the product.\n",
    "\n",
    "What if the price is not a number or the quantity is not a number or the quantity is less than or equal to zero?\n",
    "Let's look at the code below:\n"
   ],
   "id": "71a998970ab1ba17"
  },
  {
   "metadata": {
    "ExecuteTime": {
     "end_time": "2024-10-18T19:54:14.628009Z",
     "start_time": "2024-10-18T19:54:14.624690Z"
    }
   },
   "cell_type": "code",
   "source": [
    "def calculate_cost(price, quantity):\n",
    "    try:\n",
    "        if not isinstance(price, int) and not isinstance(price, float):\n",
    "            raise ValueError(\"Price needs to be a number\")\n",
    "        if price <= 0:\n",
    "            raise ValueError(\"Price needs to be greater than 0\")\n",
    "        if quantity <= 0:\n",
    "            raise ValueError(\"Quantity needs to be greater than 0\")\n",
    "        return price * quantity\n",
    "    except ValueError as e:\n",
    "        print(e)\n",
    "    except Exception as e:\n",
    "        print(\"Exception is raised\")\n",
    "        raise e\n",
    "    \n",
    "print(calculate_cost(1, 2))\n",
    "print(calculate_cost(\"a\", 2))\n",
    "print(calculate_cost(1, 0))"
   ],
   "id": "809e95b36442259a",
   "outputs": [
    {
     "name": "stdout",
     "output_type": "stream",
     "text": [
      "2\n",
      "Price needs to be a number\n",
      "None\n",
      "Quantity needs to be greater than 0\n",
      "None\n"
     ]
    }
   ],
   "execution_count": 20
  },
  {
   "metadata": {},
   "cell_type": "markdown",
   "source": [
    "## Raising exceptions cont.\n",
    "\n",
    "Our code is working fine and our sales team are happy because they can calculate the cost of the product, but they got a new kind of product which is combined from multiple products.\n",
    "They want to calculate the cost of single product, so they need to provide the number of multiproducts in one.\n",
    "\n",
    "Let's modify the function."
   ],
   "id": "8011e7caeccacf92"
  },
  {
   "metadata": {
    "ExecuteTime": {
     "end_time": "2024-10-18T19:59:52.985444Z",
     "start_time": "2024-10-18T19:59:52.962925Z"
    }
   },
   "cell_type": "code",
   "source": [
    "def calculate_cost(price, quantity, multiproduct_qty):\n",
    "    try:\n",
    "        if not isinstance(price, int) and not isinstance(price, float):\n",
    "            raise ValueError(\"Price needs to be a number\")\n",
    "        if price <= 0:\n",
    "            raise ValueError(\"Price needs to be greater than 0\")\n",
    "        if quantity <= 0:\n",
    "            raise ValueError(\"Quantity needs to be greater than 0\")\n",
    "        return price * (quantity / multiproduct_qty)\n",
    "    except ValueError as e:\n",
    "        print(e)\n",
    "    except Exception as e:\n",
    "        print(\"Exception is raised\")\n",
    "        raise e\n",
    "    \n",
    "print(calculate_cost(1, 2, 3))\n",
    "print(calculate_cost(1,2,0))"
   ],
   "id": "a49b3683868587c3",
   "outputs": [
    {
     "name": "stdout",
     "output_type": "stream",
     "text": [
      "0.6666666666666666\n",
      "Exception is raised\n"
     ]
    },
    {
     "ename": "ZeroDivisionError",
     "evalue": "division by zero",
     "output_type": "error",
     "traceback": [
      "\u001B[0;31m---------------------------------------------------------------------------\u001B[0m",
      "\u001B[0;31mZeroDivisionError\u001B[0m                         Traceback (most recent call last)",
      "Cell \u001B[0;32mIn[24], line 17\u001B[0m\n\u001B[1;32m     14\u001B[0m         \u001B[38;5;28;01mraise\u001B[39;00m e\n\u001B[1;32m     16\u001B[0m \u001B[38;5;28mprint\u001B[39m(calculate_cost(\u001B[38;5;241m1\u001B[39m, \u001B[38;5;241m2\u001B[39m, \u001B[38;5;241m3\u001B[39m))\n\u001B[0;32m---> 17\u001B[0m \u001B[38;5;28mprint\u001B[39m(\u001B[43mcalculate_cost\u001B[49m\u001B[43m(\u001B[49m\u001B[38;5;241;43m1\u001B[39;49m\u001B[43m,\u001B[49m\u001B[38;5;241;43m2\u001B[39;49m\u001B[43m,\u001B[49m\u001B[38;5;241;43m0\u001B[39;49m\u001B[43m)\u001B[49m)\n",
      "Cell \u001B[0;32mIn[24], line 14\u001B[0m, in \u001B[0;36mcalculate_cost\u001B[0;34m(price, quantity, multiproduct_qty)\u001B[0m\n\u001B[1;32m     12\u001B[0m \u001B[38;5;28;01mexcept\u001B[39;00m \u001B[38;5;167;01mException\u001B[39;00m \u001B[38;5;28;01mas\u001B[39;00m e:\n\u001B[1;32m     13\u001B[0m     \u001B[38;5;28mprint\u001B[39m(\u001B[38;5;124m\"\u001B[39m\u001B[38;5;124mException is raised\u001B[39m\u001B[38;5;124m\"\u001B[39m)\n\u001B[0;32m---> 14\u001B[0m     \u001B[38;5;28;01mraise\u001B[39;00m e\n",
      "Cell \u001B[0;32mIn[24], line 9\u001B[0m, in \u001B[0;36mcalculate_cost\u001B[0;34m(price, quantity, multiproduct_qty)\u001B[0m\n\u001B[1;32m      7\u001B[0m     \u001B[38;5;28;01mif\u001B[39;00m quantity \u001B[38;5;241m<\u001B[39m\u001B[38;5;241m=\u001B[39m \u001B[38;5;241m0\u001B[39m:\n\u001B[1;32m      8\u001B[0m         \u001B[38;5;28;01mraise\u001B[39;00m \u001B[38;5;167;01mValueError\u001B[39;00m(\u001B[38;5;124m\"\u001B[39m\u001B[38;5;124mQuantity needs to be greater than 0\u001B[39m\u001B[38;5;124m\"\u001B[39m)\n\u001B[0;32m----> 9\u001B[0m     \u001B[38;5;28;01mreturn\u001B[39;00m price \u001B[38;5;241m*\u001B[39m (\u001B[43mquantity\u001B[49m\u001B[43m \u001B[49m\u001B[38;5;241;43m/\u001B[39;49m\u001B[43m \u001B[49m\u001B[43mmultiproduct_qty\u001B[49m)\n\u001B[1;32m     10\u001B[0m \u001B[38;5;28;01mexcept\u001B[39;00m \u001B[38;5;167;01mValueError\u001B[39;00m \u001B[38;5;28;01mas\u001B[39;00m e:\n\u001B[1;32m     11\u001B[0m     \u001B[38;5;28mprint\u001B[39m(e)\n",
      "\u001B[0;31mZeroDivisionError\u001B[0m: division by zero"
     ]
    }
   ],
   "execution_count": 24
  },
  {
   "metadata": {
    "ExecuteTime": {
     "end_time": "2024-10-18T20:00:35.955893Z",
     "start_time": "2024-10-18T20:00:35.951967Z"
    }
   },
   "cell_type": "code",
   "source": [
    "# the code is not working as expected. We got the ZeroDivisionError\n",
    "# lets modify the code to catch the ZeroDivisionError\n",
    "def calculate_cost(price, quantity, multiproduct_qty):\n",
    "    try:\n",
    "        if not isinstance(price, int) and not isinstance(price, float):\n",
    "            raise ValueError(\"Price needs to be a number\")\n",
    "        if price <= 0:\n",
    "            raise ValueError(\"Price needs to be greater than 0\")\n",
    "        if quantity <= 0:\n",
    "            raise ValueError(\"Quantity needs to be greater than 0\")\n",
    "        return price * (quantity / multiproduct_qty)\n",
    "    except ValueError as e:\n",
    "        print(e)\n",
    "    except ZeroDivisionError as e:\n",
    "        print(\"Cant divide by zero. Provide at least one multiproduct\")\n",
    "    except Exception as e:\n",
    "        print(\"Exception is raised\")\n",
    "        raise e\n",
    "    \n",
    "print(calculate_cost(1, 2, 3))\n",
    "print(calculate_cost(1,2,0))"
   ],
   "id": "842d042ed43efdb3",
   "outputs": [
    {
     "name": "stdout",
     "output_type": "stream",
     "text": [
      "0.6666666666666666\n",
      "Cant divide by zero. Provide at least one multiproduct\n",
      "None\n"
     ]
    }
   ],
   "execution_count": 25
  },
  {
   "metadata": {},
   "cell_type": "markdown",
   "source": [
    "\n",
    "### Exceptions tree\n",
    "\n",
    "There are many exceptions in Python and they are organized in a tree structure. I repeat myself, but finally we got to the point.\n",
    "\n",
    "How can we know which exception is on which position in tree? We can check the __bases__ attribute of the exception class.\n",
    "We can also print the exception tree by using the following code:"
   ],
   "id": "ae2b7c861a5e8cd8"
  },
  {
   "metadata": {
    "ExecuteTime": {
     "end_time": "2024-10-18T20:01:42.264901Z",
     "start_time": "2024-10-18T20:01:42.262645Z"
    }
   },
   "cell_type": "code",
   "source": [
    "def print_exception_tree(exception):\n",
    "    print(exception)\n",
    "    for base in exception.__bases__:\n",
    "        print_exception_tree(base)"
   ],
   "id": "4b2b0ea52ef2dd27",
   "outputs": [],
   "execution_count": 26
  },
  {
   "metadata": {
    "ExecuteTime": {
     "end_time": "2024-10-18T20:01:42.949480Z",
     "start_time": "2024-10-18T20:01:42.946842Z"
    }
   },
   "cell_type": "code",
   "source": "print_exception_tree(ZeroDivisionError)",
   "id": "6147766a206e8712",
   "outputs": [
    {
     "name": "stdout",
     "output_type": "stream",
     "text": [
      "<class 'ZeroDivisionError'>\n",
      "<class 'ArithmeticError'>\n",
      "<class 'Exception'>\n",
      "<class 'BaseException'>\n",
      "<class 'object'>\n"
     ]
    }
   ],
   "execution_count": 27
  },
  {
   "metadata": {
    "ExecuteTime": {
     "end_time": "2024-10-18T20:03:08.593186Z",
     "start_time": "2024-10-18T20:03:08.588046Z"
    }
   },
   "cell_type": "code",
   "source": [
    "# we can also print complete exceptions tree in Python\n",
    "def print_exception_tree(klass, indent=0):\n",
    "    print('  ' * indent + klass.__name__)\n",
    "    for subclass in klass.__subclasses__():\n",
    "        print_exception_tree(subclass, indent + 1)\n",
    "\n",
    "# Start od głównej klasy Exception\n",
    "print_exception_tree(BaseException)"
   ],
   "id": "5bd6cfd5ae1f22f",
   "outputs": [
    {
     "name": "stdout",
     "output_type": "stream",
     "text": [
      "BaseException\n",
      "  BaseExceptionGroup\n",
      "    ExceptionGroup\n",
      "  Exception\n",
      "    ArithmeticError\n",
      "      FloatingPointError\n",
      "      OverflowError\n",
      "      ZeroDivisionError\n",
      "        DivisionByZero\n",
      "        DivisionUndefined\n",
      "      DecimalException\n",
      "        Clamped\n",
      "        Rounded\n",
      "          Underflow\n",
      "          Overflow\n",
      "        Inexact\n",
      "          Underflow\n",
      "          Overflow\n",
      "        Subnormal\n",
      "          Underflow\n",
      "        DivisionByZero\n",
      "        FloatOperation\n",
      "        InvalidOperation\n",
      "          ConversionSyntax\n",
      "          DivisionImpossible\n",
      "          DivisionUndefined\n",
      "          InvalidContext\n",
      "    AssertionError\n",
      "    AttributeError\n",
      "      FrozenInstanceError\n",
      "    BufferError\n",
      "    EOFError\n",
      "      IncompleteReadError\n",
      "    ImportError\n",
      "      ModuleNotFoundError\n",
      "        PackageNotFoundError\n",
      "      ZipImportError\n",
      "    LookupError\n",
      "      IndexError\n",
      "      KeyError\n",
      "        NoSuchKernel\n",
      "        UnknownBackend\n",
      "      CodecRegistryError\n",
      "    MemoryError\n",
      "    NameError\n",
      "      UnboundLocalError\n",
      "    OSError\n",
      "      BlockingIOError\n",
      "      ChildProcessError\n",
      "      ConnectionError\n",
      "        BrokenPipeError\n",
      "        ConnectionAbortedError\n",
      "        ConnectionRefusedError\n",
      "        ConnectionResetError\n",
      "          RemoteDisconnected\n",
      "      FileExistsError\n",
      "      FileNotFoundError\n",
      "      InterruptedError\n",
      "        InterruptedSystemCall\n",
      "      IsADirectoryError\n",
      "      NotADirectoryError\n",
      "      PermissionError\n",
      "      ProcessLookupError\n",
      "      TimeoutError\n",
      "      UnsupportedOperation\n",
      "      itimer_error\n",
      "      herror\n",
      "      gaierror\n",
      "      SSLError\n",
      "        SSLCertVerificationError\n",
      "        SSLZeroReturnError\n",
      "        SSLWantWriteError\n",
      "        SSLWantReadError\n",
      "        SSLSyscallError\n",
      "        SSLEOFError\n",
      "      Error\n",
      "        SameFileError\n",
      "      SpecialFileError\n",
      "      ExecError\n",
      "      ReadError\n",
      "      URLError\n",
      "        HTTPError\n",
      "        ContentTooShortError\n",
      "      BadGzipFile\n",
      "    ReferenceError\n",
      "    RuntimeError\n",
      "      NotImplementedError\n",
      "        ZMQVersionError\n",
      "        StdinNotImplementedError\n",
      "      RecursionError\n",
      "      _DeadlockError\n",
      "      BrokenBarrierError\n",
      "      BrokenExecutor\n",
      "        BrokenThreadPool\n",
      "      SendfileNotAvailableError\n",
      "      BrokenBarrierError\n",
      "      VariableError\n",
      "    StopAsyncIteration\n",
      "    StopIteration\n",
      "    SyntaxError\n",
      "      IndentationError\n",
      "        TabError\n",
      "    SystemError\n",
      "      CodecRegistryError\n",
      "    TypeError\n",
      "      FloatOperation\n",
      "      MultipartConversionError\n",
      "    ValueError\n",
      "      UnicodeError\n",
      "        UnicodeDecodeError\n",
      "        UnicodeEncodeError\n",
      "        UnicodeTranslateError\n",
      "      UnsupportedOperation\n",
      "      AddressValueError\n",
      "      NetmaskValueError\n",
      "      JSONDecodeError\n",
      "      SSLCertVerificationError\n",
      "      Error\n",
      "      UnsupportedDigestmodError\n",
      "      IllegalMonthError\n",
      "      IllegalWeekdayError\n",
      "      ParserError\n",
      "      MessageDefect\n",
      "        NoBoundaryInMultipartDefect\n",
      "        StartBoundaryNotFoundDefect\n",
      "        CloseBoundaryNotFoundDefect\n",
      "        FirstHeaderLineIsContinuationDefect\n",
      "        MisplacedEnvelopeHeaderDefect\n",
      "        MissingHeaderBodySeparatorDefect\n",
      "        MultipartInvariantViolationDefect\n",
      "        InvalidMultipartContentTransferEncodingDefect\n",
      "        UndecodableBytesDefect\n",
      "        InvalidBase64PaddingDefect\n",
      "        InvalidBase64CharactersDefect\n",
      "        InvalidBase64LengthDefect\n",
      "        HeaderDefect\n",
      "          InvalidHeaderDefect\n",
      "          HeaderMissingRequiredValue\n",
      "          NonPrintableDefect\n",
      "          ObsoleteHeaderDefect\n",
      "          NonASCIILocalPartDefect\n",
      "          InvalidDateDefect\n",
      "      ClassNotFound\n",
      "      ClipboardEmpty\n",
      "      MacroToEdit\n",
      "      InvalidVersion\n",
      "    Warning\n",
      "      BytesWarning\n",
      "      DeprecationWarning\n",
      "        ProvisionalWarning\n",
      "      EncodingWarning\n",
      "      FutureWarning\n",
      "        ProvisionalCompleterWarning\n",
      "      ImportWarning\n",
      "      PendingDeprecationWarning\n",
      "      ResourceWarning\n",
      "      RuntimeWarning\n",
      "        ProactorSelectorThreadWarning\n",
      "        UnknownTimezoneWarning\n",
      "      SyntaxWarning\n",
      "      UnicodeWarning\n",
      "      UserWarning\n",
      "        GetPassWarning\n",
      "        FormatterWarning\n",
      "      DeprecatedTzFormatWarning\n",
      "    ExceptionGroup\n",
      "    _OptionError\n",
      "    _Error\n",
      "    error\n",
      "    Error\n",
      "    SubprocessError\n",
      "      CalledProcessError\n",
      "      TimeoutExpired\n",
      "    ZMQBaseError\n",
      "      ZMQError\n",
      "        ContextTerminated\n",
      "        Again\n",
      "        InterruptedSystemCall\n",
      "      ZMQBindError\n",
      "      NotDone\n",
      "    error\n",
      "    PickleError\n",
      "      PicklingError\n",
      "      UnpicklingError\n",
      "    _Stop\n",
      "    TokenError\n",
      "    StopTokenizing\n",
      "    Error\n",
      "      CancelledError\n",
      "      InvalidStateError\n",
      "    _GiveupOnSendfile\n",
      "    Incomplete\n",
      "    ClassFoundException\n",
      "    EndOfBlock\n",
      "    InvalidStateError\n",
      "    LimitOverrunError\n",
      "    QueueEmpty\n",
      "    QueueFull\n",
      "    TraitError\n",
      "    Error\n",
      "    Empty\n",
      "    Full\n",
      "    error\n",
      "    error\n",
      "    ReturnValueIgnoredError\n",
      "    ArgumentError\n",
      "    ArgumentTypeError\n",
      "    ConfigError\n",
      "      ConfigLoaderError\n",
      "        ArgumentError\n",
      "      ConfigFileNotFound\n",
      "    ConfigurableError\n",
      "      MultipleInstanceError\n",
      "    ApplicationError\n",
      "    InvalidPortNumber\n",
      "    error\n",
      "    LZMAError\n",
      "    RegistryError\n",
      "    _GiveupOnFastCopy\n",
      "    Error\n",
      "      NoSectionError\n",
      "      DuplicateSectionError\n",
      "      DuplicateOptionError\n",
      "      NoOptionError\n",
      "      InterpolationError\n",
      "        InterpolationMissingOptionError\n",
      "        InterpolationSyntaxError\n",
      "        InterpolationDepthError\n",
      "      ParsingError\n",
      "        MissingSectionHeaderError\n",
      "    NoIPAddresses\n",
      "    Error\n",
      "    BadZipFile\n",
      "    LargeZipFile\n",
      "    MessageError\n",
      "      MessageParseError\n",
      "        HeaderParseError\n",
      "        BoundaryError\n",
      "      MultipartConversionError\n",
      "      CharsetError\n",
      "      HeaderWriteError\n",
      "    TraversalError\n",
      "    DuplicateKernelError\n",
      "    ErrorDuringImport\n",
      "    NotOneValueFound\n",
      "    KnownIssue\n",
      "    VerifierFailure\n",
      "    CannotEval\n",
      "    OptionError\n",
      "    BdbQuit\n",
      "    Restart\n",
      "    FindCmdError\n",
      "    HomeDirError\n",
      "    ProfileDirError\n",
      "    IPythonCoreError\n",
      "      TryNext\n",
      "      UsageError\n",
      "      StdinNotImplementedError\n",
      "    InputRejected\n",
      "    GetoptError\n",
      "    ErrorToken\n",
      "    PrefilterError\n",
      "    AliasError\n",
      "      InvalidAliasError\n",
      "    Error\n",
      "      InterfaceError\n",
      "      DatabaseError\n",
      "        InternalError\n",
      "        OperationalError\n",
      "        ProgrammingError\n",
      "        IntegrityError\n",
      "        DataError\n",
      "        NotSupportedError\n",
      "    Warning\n",
      "    SpaceInInput\n",
      "    DOMException\n",
      "      IndexSizeErr\n",
      "      DomstringSizeErr\n",
      "      HierarchyRequestErr\n",
      "      WrongDocumentErr\n",
      "      InvalidCharacterErr\n",
      "      NoDataAllowedErr\n",
      "      NoModificationAllowedErr\n",
      "      NotFoundErr\n",
      "      NotSupportedErr\n",
      "      InuseAttributeErr\n",
      "      InvalidStateErr\n",
      "      SyntaxErr\n",
      "      InvalidModificationErr\n",
      "      NamespaceErr\n",
      "      InvalidAccessErr\n",
      "      ValidationErr\n",
      "    ValidationError\n",
      "    EditReadOnlyBuffer\n",
      "    _Retry\n",
      "    InvalidLayoutError\n",
      "    HeightIsUnknownError\n",
      "    ExpatError\n",
      "    ParseEscape\n",
      "    GuardRejection\n",
      "    ParserSyntaxError\n",
      "    InternalParseError\n",
      "    _PositionUpdatingFinished\n",
      "    SimpleGetItemNotFound\n",
      "    UncaughtAttributeError\n",
      "    HasNoContext\n",
      "    ParamIssue\n",
      "    _JediError\n",
      "      InternalError\n",
      "      WrongVersion\n",
      "      RefactoringError\n",
      "    OnErrorLeaf\n",
      "    InvalidPythonEnvironment\n",
      "    HTTPException\n",
      "      NotConnected\n",
      "      InvalidURL\n",
      "      UnknownProtocol\n",
      "      UnknownTransferEncoding\n",
      "      UnimplementedFileMode\n",
      "      IncompleteRead\n",
      "      ImproperConnectionState\n",
      "        CannotSendRequest\n",
      "        CannotSendHeader\n",
      "        ResponseNotReady\n",
      "      BadStatusLine\n",
      "        RemoteDisconnected\n",
      "      LineTooLong\n",
      "    InteractivelyDefined\n",
      "    KillEmbedded\n",
      "    Error\n",
      "      NoSuchProcess\n",
      "        ZombieProcess\n",
      "      AccessDenied\n",
      "      TimeoutExpired\n",
      "    _Ipv6UnsupportedError\n",
      "    KeyReuseError\n",
      "    UnknownKeyError\n",
      "    LeakedCallbackError\n",
      "    BadYieldError\n",
      "    ReturnValueIgnoredError\n",
      "    Return\n",
      "    QueueEmpty\n",
      "    QueueFull\n",
      "    ArgumentError\n",
      "    DebuggerInitializationError\n",
      "    Error\n",
      "      ProtocolError\n",
      "      ResponseError\n",
      "      Fault\n",
      "    _Error\n",
      "    UnableToResolveVariableException\n",
      "    InvalidTypeInArgsException\n",
      "  GeneratorExit\n",
      "  KeyboardInterrupt\n",
      "  SystemExit\n",
      "  CancelledError\n"
     ]
    }
   ],
   "execution_count": 1
  },
  {
   "metadata": {},
   "cell_type": "markdown",
   "source": [
    "## Custom exceptions\n",
    "\n",
    "You saw the exceptions Tree?! It is a quite big tree, isn't it?\n",
    "\n",
    "If is still not enough for you, you can create your own exceptions, by creating a class that inherits from the Exception class."
   ],
   "id": "8a36eef2c13adf41"
  },
  {
   "metadata": {
    "ExecuteTime": {
     "end_time": "2024-10-18T20:09:24.153486Z",
     "start_time": "2024-10-18T20:09:24.149912Z"
    }
   },
   "cell_type": "code",
   "source": [
    "# the simplest example of custom exception\n",
    "class MyException(Exception):\n",
    "    pass\n",
    "    \n",
    "try:\n",
    "    raise MyException(\"This is my exception\")\n",
    "except MyException as e:\n",
    "    print(e)\n",
    "    \n",
    "# a little bit more complex example\n",
    "class MyException(Exception):\n",
    "    def __init__(self, message):\n",
    "        self.message = \"This is my custom exception with message: \" + message\n",
    "        super().__init__(self.message)\n",
    "        \n",
    "try:\n",
    "    raise MyException(\"This is my exception\")\n",
    "except MyException as e:\n",
    "    print(e)\n",
    "   "
   ],
   "id": "a5efe7826e3df0cc",
   "outputs": [
    {
     "name": "stdout",
     "output_type": "stream",
     "text": [
      "This is my exception\n",
      "This is my custom exception with message: This is my exception\n"
     ]
    }
   ],
   "execution_count": 6
  },
  {
   "metadata": {},
   "cell_type": "markdown",
   "source": [
    "## Raising exceptions in functions\n",
    "\n",
    "Raising and handling exceptions in functions can be a bit tricky. Especially if we have functions that are calling other functions.\n",
    "\n",
    "We then need to know where to catch the exception and handle it and when to raise it."
   ],
   "id": "c69e90602fcf14a2"
  },
  {
   "cell_type": "code",
   "id": "initial_id",
   "metadata": {
    "collapsed": true,
    "ExecuteTime": {
     "end_time": "2024-10-18T20:17:49.523909Z",
     "start_time": "2024-10-18T20:17:49.521005Z"
    }
   },
   "source": [
    "# function without the errors\n",
    "def func():\n",
    "    try:\n",
    "        print(\"\\nHello I am a func\")\n",
    "    except Exception as e:\n",
    "        print(\"I am except block inside the func\")\n",
    "        print(e)\n",
    "        \n",
    "try:\n",
    "    func()\n",
    "except Exception as e:\n",
    "    print(\"I am except block outside the func\")\n",
    "    print(e)"
   ],
   "outputs": [
    {
     "name": "stdout",
     "output_type": "stream",
     "text": [
      "\n",
      "Hello I am a func\n"
     ]
    }
   ],
   "execution_count": 19
  },
  {
   "metadata": {
    "ExecuteTime": {
     "end_time": "2024-10-18T20:18:03.373932Z",
     "start_time": "2024-10-18T20:18:03.371104Z"
    }
   },
   "cell_type": "code",
   "source": [
    "# here we have a function with error, but the error is handled inside the function and will be not catched outside the function.\n",
    "# it can be printed, but if our program is running in production, we will not see the error.\n",
    "def func_with_error():\n",
    "    try:\n",
    "        print(\"\\nHi I am a func with error\")\n",
    "        int(\"a\")\n",
    "    except Exception as e:\n",
    "        print(\n",
    "            \"I am a except block inside the func with error.\"\n",
    "        )\n",
    "        \n",
    "try:\n",
    "    func_with_error()\n",
    "except Exception as e:\n",
    "    print(\"I am except block outside the func. I will be not printed this time, even if there is an error\")\n",
    "    print(e)"
   ],
   "id": "703c30d178d41d4d",
   "outputs": [
    {
     "name": "stdout",
     "output_type": "stream",
     "text": [
      "\n",
      "Hi I am a func with error\n",
      "I am a except block inside the func with error.\n"
     ]
    }
   ],
   "execution_count": 20
  },
  {
   "metadata": {
    "ExecuteTime": {
     "end_time": "2024-10-18T20:23:13.067998Z",
     "start_time": "2024-10-18T20:23:13.064993Z"
    }
   },
   "cell_type": "code",
   "source": [
    "# here we have a function with error, but the error is raised and catched outside the function.\n",
    "# if we want to log errors only in the upper level of the code, we can raise the error and catch it in the upper level of the code.\n",
    "\n",
    "def func_with_error_to_caught():\n",
    "    try:\n",
    "        print(\"\\nHeeelloo, I am a func with error to caught\")\n",
    "        1/0\n",
    "    except Exception as e:\n",
    "        raise e\n",
    "    \n",
    "try:\n",
    "    func_with_error_to_caught()\n",
    "except Exception as e:\n",
    "    print(\"I am except block outside the func. I catch and handle error from function\")\n",
    "    print(e)"
   ],
   "id": "b3cca84a40ff13aa",
   "outputs": [
    {
     "name": "stdout",
     "output_type": "stream",
     "text": [
      "\n",
      "Heeelloo, I am a func with error to caught\n",
      "I am except block outside the func. I catch and handle error from function\n",
      "division by zero\n"
     ]
    }
   ],
   "execution_count": 24
  }
 ],
 "metadata": {
  "kernelspec": {
   "display_name": "Python 3",
   "language": "python",
   "name": "python3"
  },
  "language_info": {
   "codemirror_mode": {
    "name": "ipython",
    "version": 2
   },
   "file_extension": ".py",
   "mimetype": "text/x-python",
   "name": "python",
   "nbconvert_exporter": "python",
   "pygments_lexer": "ipython2",
   "version": "2.7.6"
  }
 },
 "nbformat": 4,
 "nbformat_minor": 5
}
