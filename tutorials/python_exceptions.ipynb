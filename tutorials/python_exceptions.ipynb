{
 "cells": [
  {
   "cell_type": "code",
   "execution_count": null,
   "id": "initial_id",
   "metadata": {
    "collapsed": true
   },
   "outputs": [],
   "source": [
    "def func():\n",
    "    try:\n",
    "        print(\"I am trying block inside the function where there is no error\")\n",
    "    except Exception as e:\n",
    "        print(\"I am except block inside the function\")\n",
    "        print(e)\n",
    "\n",
    "\n",
    "def func_with_error():\n",
    "    try:\n",
    "        print(\"I am trying block inside the function where there is an error\")\n",
    "        int(\"a\")\n",
    "    except Exception as e:\n",
    "        print(\n",
    "            \"I am except block inside the function with error which will not be caught\"\n",
    "        )\n",
    "\n",
    "\n",
    "def func_with_error_to_caught():\n",
    "    try:\n",
    "        print(\"I am trying block inside the function where there is an error\")\n",
    "        int(\"a\")\n",
    "    except Exception as e:\n",
    "        print(\"I am except block inside the function with error which will be caught\")\n",
    "        raise e\n",
    "\n",
    "\n",
    "try:\n",
    "    func()\n",
    "    func_with_error()\n",
    "    func_with_error_to_caught()\n",
    "except Exception as e:\n",
    "    print(\"I am except block and I am catching the error from the function\")\n",
    "    print(e)\n"
   ]
  }
 ],
 "metadata": {
  "kernelspec": {
   "display_name": "Python 3",
   "language": "python",
   "name": "python3"
  },
  "language_info": {
   "codemirror_mode": {
    "name": "ipython",
    "version": 2
   },
   "file_extension": ".py",
   "mimetype": "text/x-python",
   "name": "python",
   "nbconvert_exporter": "python",
   "pygments_lexer": "ipython2",
   "version": "2.7.6"
  }
 },
 "nbformat": 4,
 "nbformat_minor": 5
}
